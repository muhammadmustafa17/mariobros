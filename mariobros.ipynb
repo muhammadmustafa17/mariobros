{
 "cells": [
  {
   "cell_type": "markdown",
   "id": "bf35b789",
   "metadata": {},
   "source": [
    "# **1. SETUP MARIO**"
   ]
  },
  {
   "cell_type": "code",
   "execution_count": 50,
   "id": "9df75e1c",
   "metadata": {},
   "outputs": [
    {
     "name": "stdout",
     "output_type": "stream",
     "text": [
      "Collecting gym-super-mario-bros==7.4.0\n",
      "  Using cached gym_super_mario_bros-7.4.0-py3-none-any.whl.metadata (10 kB)\n",
      "Requirement already satisfied: nes_py in d:\\university of michigan ms ai\\advance artificail intellegence\\mariobros\\mariobros\\lib\\site-packages (8.2.1)\n",
      "Requirement already satisfied: gym>=0.17.2 in d:\\university of michigan ms ai\\advance artificail intellegence\\mariobros\\mariobros\\lib\\site-packages (from nes_py) (0.26.2)\n",
      "Requirement already satisfied: numpy>=1.18.5 in d:\\university of michigan ms ai\\advance artificail intellegence\\mariobros\\mariobros\\lib\\site-packages (from nes_py) (1.24.4)\n",
      "Requirement already satisfied: pyglet<=1.5.21,>=1.4.0 in d:\\university of michigan ms ai\\advance artificail intellegence\\mariobros\\mariobros\\lib\\site-packages (from nes_py) (1.5.21)\n",
      "Requirement already satisfied: tqdm>=4.48.2 in d:\\university of michigan ms ai\\advance artificail intellegence\\mariobros\\mariobros\\lib\\site-packages (from nes_py) (4.67.1)\n",
      "Requirement already satisfied: cloudpickle>=1.2.0 in d:\\university of michigan ms ai\\advance artificail intellegence\\mariobros\\mariobros\\lib\\site-packages (from gym>=0.17.2->nes_py) (3.1.1)\n",
      "Requirement already satisfied: gym-notices>=0.0.4 in d:\\university of michigan ms ai\\advance artificail intellegence\\mariobros\\mariobros\\lib\\site-packages (from gym>=0.17.2->nes_py) (0.0.8)\n",
      "Requirement already satisfied: importlib-metadata>=4.8.0 in d:\\university of michigan ms ai\\advance artificail intellegence\\mariobros\\mariobros\\lib\\site-packages (from gym>=0.17.2->nes_py) (8.5.0)\n",
      "Requirement already satisfied: colorama in d:\\university of michigan ms ai\\advance artificail intellegence\\mariobros\\mariobros\\lib\\site-packages (from tqdm>=4.48.2->nes_py) (0.4.6)\n",
      "Requirement already satisfied: zipp>=3.20 in d:\\university of michigan ms ai\\advance artificail intellegence\\mariobros\\mariobros\\lib\\site-packages (from importlib-metadata>=4.8.0->gym>=0.17.2->nes_py) (3.20.2)\n",
      "Using cached gym_super_mario_bros-7.4.0-py3-none-any.whl (199 kB)\n",
      "Installing collected packages: gym-super-mario-bros\n",
      "  Attempting uninstall: gym-super-mario-bros\n",
      "    Found existing installation: gym-super-mario-bros 7.3.0\n",
      "    Uninstalling gym-super-mario-bros-7.3.0:\n",
      "      Successfully uninstalled gym-super-mario-bros-7.3.0\n",
      "Successfully installed gym-super-mario-bros-7.4.0\n"
     ]
    }
   ],
   "source": [
    "!pip install gym-super-mario-bros==7.4.0 nes_py"
   ]
  },
  {
   "cell_type": "code",
   "execution_count": 51,
   "id": "7f629459",
   "metadata": {},
   "outputs": [],
   "source": [
    "#import the game\n",
    "import gym_super_mario_bros\n",
    "#import the Joypad wrapper\n",
    "from nes_py.wrappers import JoypadSpace\n",
    "#import the SIMPLIFIED controls\n",
    "from gym_super_mario_bros.actions import SIMPLE_MOVEMENT"
   ]
  },
  {
   "cell_type": "code",
   "execution_count": 52,
   "id": "ebc16cf7",
   "metadata": {},
   "outputs": [
    {
     "data": {
      "text/plain": [
       "[['NOOP'],\n",
       " ['right'],\n",
       " ['right', 'A'],\n",
       " ['right', 'B'],\n",
       " ['right', 'A', 'B'],\n",
       " ['A'],\n",
       " ['left']]"
      ]
     },
     "execution_count": 52,
     "metadata": {},
     "output_type": "execute_result"
    }
   ],
   "source": [
    "#simple keys to plaa the game \n",
    "SIMPLE_MOVEMENT"
   ]
  },
  {
   "cell_type": "code",
   "execution_count": 53,
   "id": "6bff60f1",
   "metadata": {},
   "outputs": [
    {
     "name": "stderr",
     "output_type": "stream",
     "text": [
      "d:\\University of Michigan MS AI\\Advance Artificail Intellegence\\mariobros\\mariobros\\lib\\site-packages\\gym\\envs\\registration.py:555: UserWarning: \u001b[33mWARN: The environment SuperMarioBros-v0 is out of date. You should consider upgrading to version `v3`.\u001b[0m\n",
      "  logger.warn(\n"
     ]
    }
   ],
   "source": [
    "#SETUP GAME\n",
    "env = gym_super_mario_bros.make('SuperMarioBros-v0')\n",
    "env = JoypadSpace(env, SIMPLE_MOVEMENT)"
   ]
  },
  {
   "cell_type": "code",
   "execution_count": 63,
   "id": "a77b3da4",
   "metadata": {},
   "outputs": [
    {
     "ename": "ValueError",
     "evalue": "not enough values to unpack (expected 5, got 4)",
     "output_type": "error",
     "traceback": [
      "\u001b[1;31m---------------------------------------------------------------------------\u001b[0m",
      "\u001b[1;31mValueError\u001b[0m                                Traceback (most recent call last)",
      "Cell \u001b[1;32mIn[63], line 7\u001b[0m\n\u001b[0;32m      4\u001b[0m     state \u001b[38;5;241m=\u001b[39m env\u001b[38;5;241m.\u001b[39mreset()  \u001b[38;5;66;03m# Reset the environment, returns only one value in newer gym versions\u001b[39;00m\n\u001b[0;32m      6\u001b[0m \u001b[38;5;66;03m# Take action and get the result\u001b[39;00m\n\u001b[1;32m----> 7\u001b[0m result \u001b[38;5;241m=\u001b[39m \u001b[43menv\u001b[49m\u001b[38;5;241;43m.\u001b[39;49m\u001b[43mstep\u001b[49m\u001b[43m(\u001b[49m\u001b[43menv\u001b[49m\u001b[38;5;241;43m.\u001b[39;49m\u001b[43maction_space\u001b[49m\u001b[38;5;241;43m.\u001b[39;49m\u001b[43msample\u001b[49m\u001b[43m(\u001b[49m\u001b[43m)\u001b[49m\u001b[43m)\u001b[49m\n\u001b[0;32m      9\u001b[0m \u001b[38;5;66;03m# Print the result to understand what is returned\u001b[39;00m\n\u001b[0;32m     10\u001b[0m \u001b[38;5;28mprint\u001b[39m(\u001b[38;5;124mf\u001b[39m\u001b[38;5;124m\"\u001b[39m\u001b[38;5;124mResult from env.step(): \u001b[39m\u001b[38;5;132;01m{\u001b[39;00m\u001b[38;5;28mlen\u001b[39m(result)\u001b[38;5;132;01m}\u001b[39;00m\u001b[38;5;124m values\u001b[39m\u001b[38;5;124m\"\u001b[39m)\n",
      "File \u001b[1;32md:\\University of Michigan MS AI\\Advance Artificail Intellegence\\mariobros\\mariobros\\lib\\site-packages\\nes_py\\wrappers\\joypad_space.py:74\u001b[0m, in \u001b[0;36mJoypadSpace.step\u001b[1;34m(self, action)\u001b[0m\n\u001b[0;32m     59\u001b[0m \u001b[38;5;250m\u001b[39m\u001b[38;5;124;03m\"\"\"\u001b[39;00m\n\u001b[0;32m     60\u001b[0m \u001b[38;5;124;03mTake a step using the given action.\u001b[39;00m\n\u001b[0;32m     61\u001b[0m \n\u001b[1;32m   (...)\u001b[0m\n\u001b[0;32m     71\u001b[0m \n\u001b[0;32m     72\u001b[0m \u001b[38;5;124;03m\"\"\"\u001b[39;00m\n\u001b[0;32m     73\u001b[0m \u001b[38;5;66;03m# take the step and record the output\u001b[39;00m\n\u001b[1;32m---> 74\u001b[0m \u001b[38;5;28;01mreturn\u001b[39;00m \u001b[38;5;28;43mself\u001b[39;49m\u001b[38;5;241;43m.\u001b[39;49m\u001b[43menv\u001b[49m\u001b[38;5;241;43m.\u001b[39;49m\u001b[43mstep\u001b[49m\u001b[43m(\u001b[49m\u001b[38;5;28;43mself\u001b[39;49m\u001b[38;5;241;43m.\u001b[39;49m\u001b[43m_action_map\u001b[49m\u001b[43m[\u001b[49m\u001b[43maction\u001b[49m\u001b[43m]\u001b[49m\u001b[43m)\u001b[49m\n",
      "File \u001b[1;32md:\\University of Michigan MS AI\\Advance Artificail Intellegence\\mariobros\\mariobros\\lib\\site-packages\\gym\\wrappers\\time_limit.py:50\u001b[0m, in \u001b[0;36mTimeLimit.step\u001b[1;34m(self, action)\u001b[0m\n\u001b[0;32m     39\u001b[0m \u001b[38;5;28;01mdef\u001b[39;00m\u001b[38;5;250m \u001b[39m\u001b[38;5;21mstep\u001b[39m(\u001b[38;5;28mself\u001b[39m, action):\n\u001b[0;32m     40\u001b[0m \u001b[38;5;250m    \u001b[39m\u001b[38;5;124;03m\"\"\"Steps through the environment and if the number of steps elapsed exceeds ``max_episode_steps`` then truncate.\u001b[39;00m\n\u001b[0;32m     41\u001b[0m \n\u001b[0;32m     42\u001b[0m \u001b[38;5;124;03m    Args:\u001b[39;00m\n\u001b[1;32m   (...)\u001b[0m\n\u001b[0;32m     48\u001b[0m \n\u001b[0;32m     49\u001b[0m \u001b[38;5;124;03m    \"\"\"\u001b[39;00m\n\u001b[1;32m---> 50\u001b[0m     observation, reward, terminated, truncated, info \u001b[38;5;241m=\u001b[39m \u001b[38;5;28mself\u001b[39m\u001b[38;5;241m.\u001b[39menv\u001b[38;5;241m.\u001b[39mstep(action)\n\u001b[0;32m     51\u001b[0m     \u001b[38;5;28mself\u001b[39m\u001b[38;5;241m.\u001b[39m_elapsed_steps \u001b[38;5;241m+\u001b[39m\u001b[38;5;241m=\u001b[39m \u001b[38;5;241m1\u001b[39m\n\u001b[0;32m     53\u001b[0m     \u001b[38;5;28;01mif\u001b[39;00m \u001b[38;5;28mself\u001b[39m\u001b[38;5;241m.\u001b[39m_elapsed_steps \u001b[38;5;241m>\u001b[39m\u001b[38;5;241m=\u001b[39m \u001b[38;5;28mself\u001b[39m\u001b[38;5;241m.\u001b[39m_max_episode_steps:\n",
      "\u001b[1;31mValueError\u001b[0m: not enough values to unpack (expected 5, got 4)"
     ]
    }
   ],
   "source": [
    "done = True\n",
    "for step in range(5000):\n",
    "    if done:\n",
    "        state = env.reset()  # Reset the environment, returns only one value in newer gym versions\n",
    "\n",
    "    # Take action and get the result\n",
    "    result = env.step(env.action_space.sample())\n",
    "\n",
    "    # Print the result to understand what is returned\n",
    "    print(f\"Result from env.step(): {len(result)} values\")\n",
    "\n",
    "    # Check the length of the result and unpack accordingly\n",
    "    if len(result) == 4:\n",
    "        state, reward, done, info = result  # 4 values\n",
    "    elif len(result) == 5:\n",
    "        state, reward, done, truncated, info = result  # 5 values (handle the truncated case)\n",
    "    else:\n",
    "        raise ValueError(f\"Unexpected result from env.step(): {len(result)} values\")\n",
    "\n",
    "    # Render the environment\n",
    "    env.render()\n",
    "\n",
    "env.close()\n"
   ]
  },
  {
   "cell_type": "markdown",
   "id": "8651bad6",
   "metadata": {},
   "source": [
    "# **2. PREPROCESS ENVIROMENT**"
   ]
  },
  {
   "cell_type": "code",
   "execution_count": null,
   "id": "85d970e6",
   "metadata": {},
   "outputs": [],
   "source": []
  },
  {
   "cell_type": "markdown",
   "id": "be218de1",
   "metadata": {},
   "source": [
    "# **3. TRAIN THE RL MODEL**"
   ]
  },
  {
   "cell_type": "code",
   "execution_count": null,
   "id": "0626b8e2",
   "metadata": {},
   "outputs": [],
   "source": []
  },
  {
   "cell_type": "markdown",
   "id": "75808161",
   "metadata": {},
   "source": [
    "# **4. TEST IT OUT**"
   ]
  },
  {
   "cell_type": "code",
   "execution_count": null,
   "id": "3bca2394",
   "metadata": {},
   "outputs": [],
   "source": []
  }
 ],
 "metadata": {
  "kernelspec": {
   "display_name": "mariobros",
   "language": "python",
   "name": "python3"
  },
  "language_info": {
   "codemirror_mode": {
    "name": "ipython",
    "version": 3
   },
   "file_extension": ".py",
   "mimetype": "text/x-python",
   "name": "python",
   "nbconvert_exporter": "python",
   "pygments_lexer": "ipython3",
   "version": "3.8.0"
  }
 },
 "nbformat": 4,
 "nbformat_minor": 5
}
