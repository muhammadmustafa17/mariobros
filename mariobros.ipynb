{
 "cells": [
  {
   "cell_type": "markdown",
   "id": "bf35b789",
   "metadata": {},
   "source": [
    "# **1. SETUP MARIO**"
   ]
  },
  {
   "cell_type": "code",
   "execution_count": 1,
   "id": "9df75e1c",
   "metadata": {},
   "outputs": [
    {
     "name": "stdout",
     "output_type": "stream",
     "text": [
      "Requirement already satisfied: gym-super-mario-bros==7.4.0 in d:\\university of michigan ms ai\\advance artificail intellegence\\mariobros\\marioenv\\lib\\site-packages (7.4.0)\n",
      "Requirement already satisfied: nes_py in d:\\university of michigan ms ai\\advance artificail intellegence\\mariobros\\marioenv\\lib\\site-packages (8.2.1)\n",
      "Requirement already satisfied: gym>=0.17.2 in d:\\university of michigan ms ai\\advance artificail intellegence\\mariobros\\marioenv\\lib\\site-packages (from nes_py) (0.26.2)\n",
      "Requirement already satisfied: numpy>=1.18.5 in d:\\university of michigan ms ai\\advance artificail intellegence\\mariobros\\marioenv\\lib\\site-packages (from nes_py) (1.24.4)\n",
      "Requirement already satisfied: pyglet<=1.5.21,>=1.4.0 in d:\\university of michigan ms ai\\advance artificail intellegence\\mariobros\\marioenv\\lib\\site-packages (from nes_py) (1.5.21)\n",
      "Requirement already satisfied: tqdm>=4.48.2 in d:\\university of michigan ms ai\\advance artificail intellegence\\mariobros\\marioenv\\lib\\site-packages (from nes_py) (4.67.1)\n",
      "Requirement already satisfied: cloudpickle>=1.2.0 in d:\\university of michigan ms ai\\advance artificail intellegence\\mariobros\\marioenv\\lib\\site-packages (from gym>=0.17.2->nes_py) (3.1.1)\n",
      "Requirement already satisfied: gym-notices>=0.0.4 in d:\\university of michigan ms ai\\advance artificail intellegence\\mariobros\\marioenv\\lib\\site-packages (from gym>=0.17.2->nes_py) (0.0.8)\n",
      "Requirement already satisfied: importlib-metadata>=4.8.0 in d:\\university of michigan ms ai\\advance artificail intellegence\\mariobros\\marioenv\\lib\\site-packages (from gym>=0.17.2->nes_py) (8.5.0)\n",
      "Requirement already satisfied: colorama in d:\\university of michigan ms ai\\advance artificail intellegence\\mariobros\\marioenv\\lib\\site-packages (from tqdm>=4.48.2->nes_py) (0.4.6)\n",
      "Requirement already satisfied: zipp>=3.20 in d:\\university of michigan ms ai\\advance artificail intellegence\\mariobros\\marioenv\\lib\\site-packages (from importlib-metadata>=4.8.0->gym>=0.17.2->nes_py) (3.20.2)\n",
      "Note: you may need to restart the kernel to use updated packages.\n"
     ]
    }
   ],
   "source": [
    "%pip install gym-super-mario-bros==7.4.0 nes_py"
   ]
  },
  {
   "cell_type": "code",
   "execution_count": 2,
   "id": "7f629459",
   "metadata": {},
   "outputs": [],
   "source": [
    "#import the game\n",
    "import gym_super_mario_bros\n",
    "#import the Joypad wrapper\n",
    "from nes_py.wrappers import JoypadSpace\n",
    "#import the SIMPLIFIED controls\n",
    "from gym_super_mario_bros.actions import SIMPLE_MOVEMENT\n",
    "import gym"
   ]
  },
  {
   "cell_type": "code",
   "execution_count": 3,
   "id": "ebc16cf7",
   "metadata": {},
   "outputs": [
    {
     "data": {
      "text/plain": [
       "[['NOOP'],\n",
       " ['right'],\n",
       " ['right', 'A'],\n",
       " ['right', 'B'],\n",
       " ['right', 'A', 'B'],\n",
       " ['A'],\n",
       " ['left']]"
      ]
     },
     "execution_count": 3,
     "metadata": {},
     "output_type": "execute_result"
    }
   ],
   "source": [
    "#simple keys to plaa the game \n",
    "SIMPLE_MOVEMENT"
   ]
  },
  {
   "cell_type": "code",
   "execution_count": 4,
   "id": "6bff60f1",
   "metadata": {},
   "outputs": [
    {
     "name": "stderr",
     "output_type": "stream",
     "text": [
      "d:\\University of Michigan MS AI\\Advance Artificail Intellegence\\mariobros\\marioenv\\lib\\site-packages\\gym\\envs\\registration.py:555: UserWarning: \u001b[33mWARN: The environment SuperMarioBros-v0 is out of date. You should consider upgrading to version `v3`.\u001b[0m\n",
      "  logger.warn(\n",
      "d:\\University of Michigan MS AI\\Advance Artificail Intellegence\\mariobros\\marioenv\\lib\\site-packages\\gym\\envs\\registration.py:627: UserWarning: \u001b[33mWARN: The environment creator metadata doesn't include `render_modes`, contains: ['render.modes', 'video.frames_per_second']\u001b[0m\n",
      "  logger.warn(\n"
     ]
    }
   ],
   "source": [
    "#SETUP GAME\n",
    "env = gym.make('SuperMarioBros-v0', apply_api_compatibility=True, render_mode=\"human\")\n",
    "env = JoypadSpace(env, SIMPLE_MOVEMENT)"
   ]
  },
  {
   "cell_type": "code",
   "execution_count": 5,
   "id": "36c65896",
   "metadata": {},
   "outputs": [
    {
     "name": "stdout",
     "output_type": "stream",
     "text": [
      "(array([[[104, 136, 252],\n",
      "        [104, 136, 252],\n",
      "        [104, 136, 252],\n",
      "        ...,\n",
      "        [104, 136, 252],\n",
      "        [104, 136, 252],\n",
      "        [104, 136, 252]],\n",
      "\n",
      "       [[104, 136, 252],\n",
      "        [104, 136, 252],\n",
      "        [104, 136, 252],\n",
      "        ...,\n",
      "        [104, 136, 252],\n",
      "        [104, 136, 252],\n",
      "        [104, 136, 252]],\n",
      "\n",
      "       [[104, 136, 252],\n",
      "        [104, 136, 252],\n",
      "        [104, 136, 252],\n",
      "        ...,\n",
      "        [104, 136, 252],\n",
      "        [104, 136, 252],\n",
      "        [104, 136, 252]],\n",
      "\n",
      "       ...,\n",
      "\n",
      "       [[240, 208, 176],\n",
      "        [228,  92,  16],\n",
      "        [228,  92,  16],\n",
      "        ...,\n",
      "        [228,  92,  16],\n",
      "        [228,  92,  16],\n",
      "        [  0,   0,   0]],\n",
      "\n",
      "       [[240, 208, 176],\n",
      "        [228,  92,  16],\n",
      "        [228,  92,  16],\n",
      "        ...,\n",
      "        [228,  92,  16],\n",
      "        [  0,   0,   0],\n",
      "        [  0,   0,   0]],\n",
      "\n",
      "       [[228,  92,  16],\n",
      "        [  0,   0,   0],\n",
      "        [  0,   0,   0],\n",
      "        ...,\n",
      "        [  0,   0,   0],\n",
      "        [  0,   0,   0],\n",
      "        [228,  92,  16]]], dtype=uint8), {})\n"
     ]
    }
   ],
   "source": [
    "print(env.reset())"
   ]
  },
  {
   "cell_type": "code",
   "execution_count": 7,
   "id": "a77b3da4",
   "metadata": {},
   "outputs": [
    {
     "ename": "",
     "evalue": "",
     "output_type": "error",
     "traceback": [
      "\u001b[1;31mThe Kernel crashed while executing code in the current cell or a previous cell. \n",
      "\u001b[1;31mPlease review the code in the cell(s) to identify a possible cause of the failure. \n",
      "\u001b[1;31mClick <a href='https://aka.ms/vscodeJupyterKernelCrash'>here</a> for more info. \n",
      "\u001b[1;31mView Jupyter <a href='command:jupyter.viewOutput'>log</a> for further details."
     ]
    }
   ],
   "source": [
    "done = True\n",
    "env.reset()\n",
    "for step in range(5000):\n",
    "    action = env.action_space.sample()\n",
    "    obs, reward, terminated, truncated, info = env.step(action)\n",
    "    done = terminated or truncated\n",
    "\n",
    "    if done:\n",
    "       env.reset()\n",
    "\n",
    "env.close()"
   ]
  },
  {
   "cell_type": "markdown",
   "id": "8651bad6",
   "metadata": {},
   "source": [
    "# **2. PREPROCESS ENVIROMENT**"
   ]
  },
  {
   "cell_type": "code",
   "execution_count": null,
   "id": "85d970e6",
   "metadata": {},
   "outputs": [],
   "source": []
  },
  {
   "cell_type": "markdown",
   "id": "be218de1",
   "metadata": {},
   "source": [
    "# **3. TRAIN THE RL MODEL**"
   ]
  },
  {
   "cell_type": "code",
   "execution_count": null,
   "id": "0626b8e2",
   "metadata": {},
   "outputs": [],
   "source": []
  },
  {
   "cell_type": "markdown",
   "id": "75808161",
   "metadata": {},
   "source": [
    "# **4. TEST IT OUT**"
   ]
  },
  {
   "cell_type": "code",
   "execution_count": null,
   "id": "3bca2394",
   "metadata": {},
   "outputs": [],
   "source": []
  }
 ],
 "metadata": {
  "kernelspec": {
   "display_name": "marioenv",
   "language": "python",
   "name": "python3"
  },
  "language_info": {
   "codemirror_mode": {
    "name": "ipython",
    "version": 3
   },
   "file_extension": ".py",
   "mimetype": "text/x-python",
   "name": "python",
   "nbconvert_exporter": "python",
   "pygments_lexer": "ipython3",
   "version": "3.8.0"
  }
 },
 "nbformat": 4,
 "nbformat_minor": 5
}
