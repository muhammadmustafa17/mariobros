{
 "cells": [
  {
   "cell_type": "markdown",
   "id": "bf35b789",
   "metadata": {},
   "source": [
    "# **1. SETUP MARIO**"
   ]
  },
  {
   "cell_type": "code",
   "execution_count": null,
   "id": "9df75e1c",
   "metadata": {},
   "outputs": [],
   "source": [
    "!pip install gym-super-mario-bros==7.3.0 \n",
    "!pip install nes-py==8.1.8\n",
    "!pip install gym==0.23.1"
   ]
  },
  {
   "cell_type": "code",
   "execution_count": null,
   "id": "7f629459",
   "metadata": {},
   "outputs": [],
   "source": [
    "#import the game\n",
    "#from gym_super_mario_bros import make as make_mario\n",
    "import gym_super_mario_bros\n",
    "#import the Joypad wrapper\n",
    "from nes_py.wrappers import JoypadSpace\n",
    "#import the SIMPLIFIED controls\n",
    "from gym_super_mario_bros.actions import SIMPLE_MOVEMENT\n",
    "import gym\n",
    "#import gymnasium as gym"
   ]
  },
  {
   "cell_type": "code",
   "execution_count": null,
   "id": "ebc16cf7",
   "metadata": {},
   "outputs": [],
   "source": [
    "#simple keys to plaa the game \n",
    "SIMPLE_MOVEMENT"
   ]
  },
  {
   "cell_type": "code",
   "execution_count": null,
   "id": "6bff60f1",
   "metadata": {},
   "outputs": [],
   "source": [
    "#SETUP GAME\n",
    "env = gym.make('SuperMarioBros-v0', apply_api_compatibility=True, render_mode=\"human\")\n",
    "env = JoypadSpace(env, SIMPLE_MOVEMENT)"
   ]
  },
  {
   "cell_type": "code",
   "execution_count": null,
   "id": "a77b3da4",
   "metadata": {},
   "outputs": [],
   "source": [
    "done = True\n",
    "for step in range(100000):\n",
    "    if done:\n",
    "        obs = env.reset()\n",
    "        \n",
    "    obs, reward, terminated, truncated, info = env.step(env.action_space.sample())\n",
    "    done = terminated or truncated\n",
    "\n",
    "env.close()"
   ]
  },
  {
   "cell_type": "code",
   "execution_count": null,
   "id": "968a380b",
   "metadata": {},
   "outputs": [],
   "source": [
    "env.close()"
   ]
  },
  {
   "cell_type": "markdown",
   "id": "8651bad6",
   "metadata": {},
   "source": [
    "# **2. PREPROCESS ENVIROMENT**"
   ]
  },
  {
   "cell_type": "code",
   "execution_count": null,
   "id": "85d970e6",
   "metadata": {},
   "outputs": [],
   "source": [
    "#import Frame Stacker Wrapper and GrayScaling Wrapper \n",
    "from gym.wrappers import GrayScaleObservation\n",
    "# Import Vectorization Wrappers\n",
    "from stable_baselines3.common.vec_env import VecFrameStack, DummyVecEnv\n",
    "#import Matplotlib\n",
    "from matplotlib import pyplot as plt"
   ]
  },
  {
   "cell_type": "code",
   "execution_count": null,
   "id": "63d0c1ff",
   "metadata": {},
   "outputs": [],
   "source": [
    "# 1 . Create the baase enviroment\n",
    "env = gym.make('SuperMarioBros-v0', apply_api_compatibility=True, render_mode=\"human\")\n",
    "# 2 . Simplify the control\n",
    "env = JoypadSpace(env, SIMPLE_MOVEMENT)\n",
    "# 3 . GrayScale\n",
    "env = GrayScaleObservation(env, keep_dim=True)\n",
    "# 4 . Wrap inside the Dummy Enviroment\n",
    "env = DummyVecEnv([lambda: env])\n",
    "#  5 . Stack the frames \n",
    "env = VecFrameStack( env, 4, channels_order='last')\n"
   ]
  },
  {
   "cell_type": "code",
   "execution_count": null,
   "id": "76f2f29e",
   "metadata": {},
   "outputs": [],
   "source": [
    "obs, info = env.reset()"
   ]
  },
  {
   "cell_type": "code",
   "execution_count": null,
   "id": "09764844",
   "metadata": {},
   "outputs": [],
   "source": [
    "obs.shape"
   ]
  },
  {
   "cell_type": "code",
   "execution_count": null,
   "id": "b4c27f0b",
   "metadata": {},
   "outputs": [],
   "source": [
    "#used matplotlib to show the game frame\n",
    "plt.imshow(obs[0])"
   ]
  },
  {
   "cell_type": "markdown",
   "id": "be218de1",
   "metadata": {},
   "source": [
    "# **3. TRAIN THE RL MODEL**"
   ]
  },
  {
   "cell_type": "code",
   "execution_count": null,
   "id": "0626b8e2",
   "metadata": {},
   "outputs": [],
   "source": []
  },
  {
   "cell_type": "markdown",
   "id": "75808161",
   "metadata": {},
   "source": [
    "# **4. TEST IT OUT**"
   ]
  },
  {
   "cell_type": "code",
   "execution_count": null,
   "id": "3bca2394",
   "metadata": {},
   "outputs": [],
   "source": []
  }
 ],
 "metadata": {
  "kernelspec": {
   "display_name": "mariosupbros",
   "language": "python",
   "name": "python3"
  },
  "language_info": {
   "codemirror_mode": {
    "name": "ipython",
    "version": 3
   },
   "file_extension": ".py",
   "mimetype": "text/x-python",
   "name": "python",
   "nbconvert_exporter": "python",
   "pygments_lexer": "ipython3",
   "version": "3.12.7"
  }
 },
 "nbformat": 4,
 "nbformat_minor": 5
}
